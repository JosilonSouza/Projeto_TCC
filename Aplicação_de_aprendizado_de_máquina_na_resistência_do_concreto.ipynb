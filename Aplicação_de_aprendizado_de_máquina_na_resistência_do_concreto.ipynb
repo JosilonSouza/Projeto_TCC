{
  "nbformat": 4,
  "nbformat_minor": 0,
  "metadata": {
    "colab": {
      "provenance": []
    },
    "kernelspec": {
      "name": "python3",
      "display_name": "Python 3"
    },
    "language_info": {
      "name": "python"
    }
  },
  "cells": [
    {
      "cell_type": "code",
      "execution_count": null,
      "metadata": {
        "id": "GK1oJOvnzaYi"
      },
      "outputs": [],
      "source": [
        "import pandas as pd\n",
        "import seaborn as sns\n",
        "import matplotlib.pyplot as plt\n",
        "from sklearn.ensemble import RandomForestRegressor\n",
        "from sklearn.model_selection import train_test_split\n",
        "from sklearn.metrics import accuracy_score, mean_squared_error, classification_report, r2_score\n",
        "import numpy as np\n",
        "from sklearn import metrics\n",
        "from sklearn.tree import export_graphviz\n",
        "from sklearn import tree"
      ]
    },
    {
      "cell_type": "code",
      "source": [
        "concreto = pd.read_csv('concrete.csv')"
      ],
      "metadata": {
        "id": "JiYMtB5yzgbI"
      },
      "execution_count": null,
      "outputs": []
    },
    {
      "cell_type": "code",
      "source": [
        "concreto"
      ],
      "metadata": {
        "colab": {
          "base_uri": "https://localhost:8080/",
          "height": 424
        },
        "id": "pVY5lBIEzgwt",
        "outputId": "1edeeb95-9dd3-4321-ac41-36f0cba39dea"
      },
      "execution_count": null,
      "outputs": [
        {
          "output_type": "execute_result",
          "data": {
            "text/plain": [
              "      cement   slag    ash  water  superplastic  coarseagg  fineagg  age  \\\n",
              "0      141.3  212.0    0.0  203.5           0.0      971.8    748.5   28   \n",
              "1      168.9   42.2  124.3  158.3          10.8     1080.8    796.2   14   \n",
              "2      250.0    0.0   95.7  187.4           5.5      956.9    861.2   28   \n",
              "3      266.0  114.0    0.0  228.0           0.0      932.0    670.0   28   \n",
              "4      154.8  183.4    0.0  193.3           9.1     1047.4    696.7   28   \n",
              "...      ...    ...    ...    ...           ...        ...      ...  ...   \n",
              "1025   135.0    0.0  166.0  180.0          10.0      961.0    805.0   28   \n",
              "1026   531.3    0.0    0.0  141.8          28.2      852.1    893.7    3   \n",
              "1027   276.4  116.0   90.3  179.6           8.9      870.1    768.3   28   \n",
              "1028   342.0   38.0    0.0  228.0           0.0      932.0    670.0  270   \n",
              "1029   540.0    0.0    0.0  173.0           0.0     1125.0    613.0    7   \n",
              "\n",
              "      strength  \n",
              "0        29.89  \n",
              "1        23.51  \n",
              "2        29.22  \n",
              "3        45.85  \n",
              "4        18.29  \n",
              "...        ...  \n",
              "1025     13.29  \n",
              "1026     41.30  \n",
              "1027     44.28  \n",
              "1028     55.06  \n",
              "1029     52.61  \n",
              "\n",
              "[1030 rows x 9 columns]"
            ],
            "text/html": [
              "\n",
              "  <div id=\"df-28a94e79-e3a9-46b4-9b17-754ba6fce990\">\n",
              "    <div class=\"colab-df-container\">\n",
              "      <div>\n",
              "<style scoped>\n",
              "    .dataframe tbody tr th:only-of-type {\n",
              "        vertical-align: middle;\n",
              "    }\n",
              "\n",
              "    .dataframe tbody tr th {\n",
              "        vertical-align: top;\n",
              "    }\n",
              "\n",
              "    .dataframe thead th {\n",
              "        text-align: right;\n",
              "    }\n",
              "</style>\n",
              "<table border=\"1\" class=\"dataframe\">\n",
              "  <thead>\n",
              "    <tr style=\"text-align: right;\">\n",
              "      <th></th>\n",
              "      <th>cement</th>\n",
              "      <th>slag</th>\n",
              "      <th>ash</th>\n",
              "      <th>water</th>\n",
              "      <th>superplastic</th>\n",
              "      <th>coarseagg</th>\n",
              "      <th>fineagg</th>\n",
              "      <th>age</th>\n",
              "      <th>strength</th>\n",
              "    </tr>\n",
              "  </thead>\n",
              "  <tbody>\n",
              "    <tr>\n",
              "      <th>0</th>\n",
              "      <td>141.3</td>\n",
              "      <td>212.0</td>\n",
              "      <td>0.0</td>\n",
              "      <td>203.5</td>\n",
              "      <td>0.0</td>\n",
              "      <td>971.8</td>\n",
              "      <td>748.5</td>\n",
              "      <td>28</td>\n",
              "      <td>29.89</td>\n",
              "    </tr>\n",
              "    <tr>\n",
              "      <th>1</th>\n",
              "      <td>168.9</td>\n",
              "      <td>42.2</td>\n",
              "      <td>124.3</td>\n",
              "      <td>158.3</td>\n",
              "      <td>10.8</td>\n",
              "      <td>1080.8</td>\n",
              "      <td>796.2</td>\n",
              "      <td>14</td>\n",
              "      <td>23.51</td>\n",
              "    </tr>\n",
              "    <tr>\n",
              "      <th>2</th>\n",
              "      <td>250.0</td>\n",
              "      <td>0.0</td>\n",
              "      <td>95.7</td>\n",
              "      <td>187.4</td>\n",
              "      <td>5.5</td>\n",
              "      <td>956.9</td>\n",
              "      <td>861.2</td>\n",
              "      <td>28</td>\n",
              "      <td>29.22</td>\n",
              "    </tr>\n",
              "    <tr>\n",
              "      <th>3</th>\n",
              "      <td>266.0</td>\n",
              "      <td>114.0</td>\n",
              "      <td>0.0</td>\n",
              "      <td>228.0</td>\n",
              "      <td>0.0</td>\n",
              "      <td>932.0</td>\n",
              "      <td>670.0</td>\n",
              "      <td>28</td>\n",
              "      <td>45.85</td>\n",
              "    </tr>\n",
              "    <tr>\n",
              "      <th>4</th>\n",
              "      <td>154.8</td>\n",
              "      <td>183.4</td>\n",
              "      <td>0.0</td>\n",
              "      <td>193.3</td>\n",
              "      <td>9.1</td>\n",
              "      <td>1047.4</td>\n",
              "      <td>696.7</td>\n",
              "      <td>28</td>\n",
              "      <td>18.29</td>\n",
              "    </tr>\n",
              "    <tr>\n",
              "      <th>...</th>\n",
              "      <td>...</td>\n",
              "      <td>...</td>\n",
              "      <td>...</td>\n",
              "      <td>...</td>\n",
              "      <td>...</td>\n",
              "      <td>...</td>\n",
              "      <td>...</td>\n",
              "      <td>...</td>\n",
              "      <td>...</td>\n",
              "    </tr>\n",
              "    <tr>\n",
              "      <th>1025</th>\n",
              "      <td>135.0</td>\n",
              "      <td>0.0</td>\n",
              "      <td>166.0</td>\n",
              "      <td>180.0</td>\n",
              "      <td>10.0</td>\n",
              "      <td>961.0</td>\n",
              "      <td>805.0</td>\n",
              "      <td>28</td>\n",
              "      <td>13.29</td>\n",
              "    </tr>\n",
              "    <tr>\n",
              "      <th>1026</th>\n",
              "      <td>531.3</td>\n",
              "      <td>0.0</td>\n",
              "      <td>0.0</td>\n",
              "      <td>141.8</td>\n",
              "      <td>28.2</td>\n",
              "      <td>852.1</td>\n",
              "      <td>893.7</td>\n",
              "      <td>3</td>\n",
              "      <td>41.30</td>\n",
              "    </tr>\n",
              "    <tr>\n",
              "      <th>1027</th>\n",
              "      <td>276.4</td>\n",
              "      <td>116.0</td>\n",
              "      <td>90.3</td>\n",
              "      <td>179.6</td>\n",
              "      <td>8.9</td>\n",
              "      <td>870.1</td>\n",
              "      <td>768.3</td>\n",
              "      <td>28</td>\n",
              "      <td>44.28</td>\n",
              "    </tr>\n",
              "    <tr>\n",
              "      <th>1028</th>\n",
              "      <td>342.0</td>\n",
              "      <td>38.0</td>\n",
              "      <td>0.0</td>\n",
              "      <td>228.0</td>\n",
              "      <td>0.0</td>\n",
              "      <td>932.0</td>\n",
              "      <td>670.0</td>\n",
              "      <td>270</td>\n",
              "      <td>55.06</td>\n",
              "    </tr>\n",
              "    <tr>\n",
              "      <th>1029</th>\n",
              "      <td>540.0</td>\n",
              "      <td>0.0</td>\n",
              "      <td>0.0</td>\n",
              "      <td>173.0</td>\n",
              "      <td>0.0</td>\n",
              "      <td>1125.0</td>\n",
              "      <td>613.0</td>\n",
              "      <td>7</td>\n",
              "      <td>52.61</td>\n",
              "    </tr>\n",
              "  </tbody>\n",
              "</table>\n",
              "<p>1030 rows × 9 columns</p>\n",
              "</div>\n",
              "      <button class=\"colab-df-convert\" onclick=\"convertToInteractive('df-28a94e79-e3a9-46b4-9b17-754ba6fce990')\"\n",
              "              title=\"Convert this dataframe to an interactive table.\"\n",
              "              style=\"display:none;\">\n",
              "        \n",
              "  <svg xmlns=\"http://www.w3.org/2000/svg\" height=\"24px\"viewBox=\"0 0 24 24\"\n",
              "       width=\"24px\">\n",
              "    <path d=\"M0 0h24v24H0V0z\" fill=\"none\"/>\n",
              "    <path d=\"M18.56 5.44l.94 2.06.94-2.06 2.06-.94-2.06-.94-.94-2.06-.94 2.06-2.06.94zm-11 1L8.5 8.5l.94-2.06 2.06-.94-2.06-.94L8.5 2.5l-.94 2.06-2.06.94zm10 10l.94 2.06.94-2.06 2.06-.94-2.06-.94-.94-2.06-.94 2.06-2.06.94z\"/><path d=\"M17.41 7.96l-1.37-1.37c-.4-.4-.92-.59-1.43-.59-.52 0-1.04.2-1.43.59L10.3 9.45l-7.72 7.72c-.78.78-.78 2.05 0 2.83L4 21.41c.39.39.9.59 1.41.59.51 0 1.02-.2 1.41-.59l7.78-7.78 2.81-2.81c.8-.78.8-2.07 0-2.86zM5.41 20L4 18.59l7.72-7.72 1.47 1.35L5.41 20z\"/>\n",
              "  </svg>\n",
              "      </button>\n",
              "      \n",
              "  <style>\n",
              "    .colab-df-container {\n",
              "      display:flex;\n",
              "      flex-wrap:wrap;\n",
              "      gap: 12px;\n",
              "    }\n",
              "\n",
              "    .colab-df-convert {\n",
              "      background-color: #E8F0FE;\n",
              "      border: none;\n",
              "      border-radius: 50%;\n",
              "      cursor: pointer;\n",
              "      display: none;\n",
              "      fill: #1967D2;\n",
              "      height: 32px;\n",
              "      padding: 0 0 0 0;\n",
              "      width: 32px;\n",
              "    }\n",
              "\n",
              "    .colab-df-convert:hover {\n",
              "      background-color: #E2EBFA;\n",
              "      box-shadow: 0px 1px 2px rgba(60, 64, 67, 0.3), 0px 1px 3px 1px rgba(60, 64, 67, 0.15);\n",
              "      fill: #174EA6;\n",
              "    }\n",
              "\n",
              "    [theme=dark] .colab-df-convert {\n",
              "      background-color: #3B4455;\n",
              "      fill: #D2E3FC;\n",
              "    }\n",
              "\n",
              "    [theme=dark] .colab-df-convert:hover {\n",
              "      background-color: #434B5C;\n",
              "      box-shadow: 0px 1px 3px 1px rgba(0, 0, 0, 0.15);\n",
              "      filter: drop-shadow(0px 1px 2px rgba(0, 0, 0, 0.3));\n",
              "      fill: #FFFFFF;\n",
              "    }\n",
              "  </style>\n",
              "\n",
              "      <script>\n",
              "        const buttonEl =\n",
              "          document.querySelector('#df-28a94e79-e3a9-46b4-9b17-754ba6fce990 button.colab-df-convert');\n",
              "        buttonEl.style.display =\n",
              "          google.colab.kernel.accessAllowed ? 'block' : 'none';\n",
              "\n",
              "        async function convertToInteractive(key) {\n",
              "          const element = document.querySelector('#df-28a94e79-e3a9-46b4-9b17-754ba6fce990');\n",
              "          const dataTable =\n",
              "            await google.colab.kernel.invokeFunction('convertToInteractive',\n",
              "                                                     [key], {});\n",
              "          if (!dataTable) return;\n",
              "\n",
              "          const docLinkHtml = 'Like what you see? Visit the ' +\n",
              "            '<a target=\"_blank\" href=https://colab.research.google.com/notebooks/data_table.ipynb>data table notebook</a>'\n",
              "            + ' to learn more about interactive tables.';\n",
              "          element.innerHTML = '';\n",
              "          dataTable['output_type'] = 'display_data';\n",
              "          await google.colab.output.renderOutput(dataTable, element);\n",
              "          const docLink = document.createElement('div');\n",
              "          docLink.innerHTML = docLinkHtml;\n",
              "          element.appendChild(docLink);\n",
              "        }\n",
              "      </script>\n",
              "    </div>\n",
              "  </div>\n",
              "  "
            ]
          },
          "metadata": {},
          "execution_count": 3
        }
      ]
    },
    {
      "cell_type": "code",
      "source": [
        "nulos = concreto.isnull()\n",
        "nulos.sum()\n",
        "concreto.drop"
      ],
      "metadata": {
        "colab": {
          "base_uri": "https://localhost:8080/"
        },
        "id": "T3nB4H031wh8",
        "outputId": "7d07b684-df3d-44fa-9ade-7a59dea54dfa"
      },
      "execution_count": null,
      "outputs": [
        {
          "output_type": "execute_result",
          "data": {
            "text/plain": [
              "<bound method DataFrame.drop of       cement   slag    ash  water  superplastic  coarseagg  fineagg  age  \\\n",
              "0      141.3  212.0    0.0  203.5           0.0      971.8    748.5   28   \n",
              "1      168.9   42.2  124.3  158.3          10.8     1080.8    796.2   14   \n",
              "2      250.0    0.0   95.7  187.4           5.5      956.9    861.2   28   \n",
              "3      266.0  114.0    0.0  228.0           0.0      932.0    670.0   28   \n",
              "4      154.8  183.4    0.0  193.3           9.1     1047.4    696.7   28   \n",
              "...      ...    ...    ...    ...           ...        ...      ...  ...   \n",
              "1025   135.0    0.0  166.0  180.0          10.0      961.0    805.0   28   \n",
              "1026   531.3    0.0    0.0  141.8          28.2      852.1    893.7    3   \n",
              "1027   276.4  116.0   90.3  179.6           8.9      870.1    768.3   28   \n",
              "1028   342.0   38.0    0.0  228.0           0.0      932.0    670.0  270   \n",
              "1029   540.0    0.0    0.0  173.0           0.0     1125.0    613.0    7   \n",
              "\n",
              "      strength  \n",
              "0        29.89  \n",
              "1        23.51  \n",
              "2        29.22  \n",
              "3        45.85  \n",
              "4        18.29  \n",
              "...        ...  \n",
              "1025     13.29  \n",
              "1026     41.30  \n",
              "1027     44.28  \n",
              "1028     55.06  \n",
              "1029     52.61  \n",
              "\n",
              "[1030 rows x 9 columns]>"
            ]
          },
          "metadata": {},
          "execution_count": 5
        }
      ]
    },
    {
      "cell_type": "code",
      "source": [
        "concreto.rename(columns={'cement':'cimento', 'slag': 'escória', 'ash': 'cinzas', \n",
        "                  'water': 'água', 'superplastic': 'superplastificante', 'coarseagg': 'agreg.graúdo', 'fineagg': 'agrer.miúdo', 'age': 'idade', 'strength': 'resistência'}, inplace=True)"
      ],
      "metadata": {
        "id": "zOxfWm2GfQ8C"
      },
      "execution_count": null,
      "outputs": []
    },
    {
      "cell_type": "code",
      "source": [
        "concreto.head(10)"
      ],
      "metadata": {
        "colab": {
          "base_uri": "https://localhost:8080/",
          "height": 363
        },
        "id": "FWkfHzZfhx1l",
        "outputId": "4e4895a0-860b-4fef-fe4e-23c405fc1d0a"
      },
      "execution_count": null,
      "outputs": [
        {
          "output_type": "execute_result",
          "data": {
            "text/plain": [
              "   cimento  escória  cinzas   água  superplastificante  agreg.graúdo  \\\n",
              "0    141.3    212.0     0.0  203.5                 0.0         971.8   \n",
              "1    168.9     42.2   124.3  158.3                10.8        1080.8   \n",
              "2    250.0      0.0    95.7  187.4                 5.5         956.9   \n",
              "3    266.0    114.0     0.0  228.0                 0.0         932.0   \n",
              "4    154.8    183.4     0.0  193.3                 9.1        1047.4   \n",
              "5    255.0      0.0     0.0  192.0                 0.0         889.8   \n",
              "6    166.8    250.2     0.0  203.5                 0.0         975.6   \n",
              "7    251.4      0.0   118.3  188.5                 6.4        1028.4   \n",
              "8    296.0      0.0     0.0  192.0                 0.0        1085.0   \n",
              "9    155.0    184.0   143.0  194.0                 9.0         880.0   \n",
              "\n",
              "   agrer.miúdo  idade  resistência  \n",
              "0        748.5     28        29.89  \n",
              "1        796.2     14        23.51  \n",
              "2        861.2     28        29.22  \n",
              "3        670.0     28        45.85  \n",
              "4        696.7     28        18.29  \n",
              "5        945.0     90        21.86  \n",
              "6        692.6      7        15.75  \n",
              "7        757.7     56        36.64  \n",
              "8        765.0     28        21.65  \n",
              "9        699.0     28        28.99  "
            ],
            "text/html": [
              "\n",
              "  <div id=\"df-900585d5-f172-442a-a248-2c1a2e9ea1ef\">\n",
              "    <div class=\"colab-df-container\">\n",
              "      <div>\n",
              "<style scoped>\n",
              "    .dataframe tbody tr th:only-of-type {\n",
              "        vertical-align: middle;\n",
              "    }\n",
              "\n",
              "    .dataframe tbody tr th {\n",
              "        vertical-align: top;\n",
              "    }\n",
              "\n",
              "    .dataframe thead th {\n",
              "        text-align: right;\n",
              "    }\n",
              "</style>\n",
              "<table border=\"1\" class=\"dataframe\">\n",
              "  <thead>\n",
              "    <tr style=\"text-align: right;\">\n",
              "      <th></th>\n",
              "      <th>cimento</th>\n",
              "      <th>escória</th>\n",
              "      <th>cinzas</th>\n",
              "      <th>água</th>\n",
              "      <th>superplastificante</th>\n",
              "      <th>agreg.graúdo</th>\n",
              "      <th>agrer.miúdo</th>\n",
              "      <th>idade</th>\n",
              "      <th>resistência</th>\n",
              "    </tr>\n",
              "  </thead>\n",
              "  <tbody>\n",
              "    <tr>\n",
              "      <th>0</th>\n",
              "      <td>141.3</td>\n",
              "      <td>212.0</td>\n",
              "      <td>0.0</td>\n",
              "      <td>203.5</td>\n",
              "      <td>0.0</td>\n",
              "      <td>971.8</td>\n",
              "      <td>748.5</td>\n",
              "      <td>28</td>\n",
              "      <td>29.89</td>\n",
              "    </tr>\n",
              "    <tr>\n",
              "      <th>1</th>\n",
              "      <td>168.9</td>\n",
              "      <td>42.2</td>\n",
              "      <td>124.3</td>\n",
              "      <td>158.3</td>\n",
              "      <td>10.8</td>\n",
              "      <td>1080.8</td>\n",
              "      <td>796.2</td>\n",
              "      <td>14</td>\n",
              "      <td>23.51</td>\n",
              "    </tr>\n",
              "    <tr>\n",
              "      <th>2</th>\n",
              "      <td>250.0</td>\n",
              "      <td>0.0</td>\n",
              "      <td>95.7</td>\n",
              "      <td>187.4</td>\n",
              "      <td>5.5</td>\n",
              "      <td>956.9</td>\n",
              "      <td>861.2</td>\n",
              "      <td>28</td>\n",
              "      <td>29.22</td>\n",
              "    </tr>\n",
              "    <tr>\n",
              "      <th>3</th>\n",
              "      <td>266.0</td>\n",
              "      <td>114.0</td>\n",
              "      <td>0.0</td>\n",
              "      <td>228.0</td>\n",
              "      <td>0.0</td>\n",
              "      <td>932.0</td>\n",
              "      <td>670.0</td>\n",
              "      <td>28</td>\n",
              "      <td>45.85</td>\n",
              "    </tr>\n",
              "    <tr>\n",
              "      <th>4</th>\n",
              "      <td>154.8</td>\n",
              "      <td>183.4</td>\n",
              "      <td>0.0</td>\n",
              "      <td>193.3</td>\n",
              "      <td>9.1</td>\n",
              "      <td>1047.4</td>\n",
              "      <td>696.7</td>\n",
              "      <td>28</td>\n",
              "      <td>18.29</td>\n",
              "    </tr>\n",
              "    <tr>\n",
              "      <th>5</th>\n",
              "      <td>255.0</td>\n",
              "      <td>0.0</td>\n",
              "      <td>0.0</td>\n",
              "      <td>192.0</td>\n",
              "      <td>0.0</td>\n",
              "      <td>889.8</td>\n",
              "      <td>945.0</td>\n",
              "      <td>90</td>\n",
              "      <td>21.86</td>\n",
              "    </tr>\n",
              "    <tr>\n",
              "      <th>6</th>\n",
              "      <td>166.8</td>\n",
              "      <td>250.2</td>\n",
              "      <td>0.0</td>\n",
              "      <td>203.5</td>\n",
              "      <td>0.0</td>\n",
              "      <td>975.6</td>\n",
              "      <td>692.6</td>\n",
              "      <td>7</td>\n",
              "      <td>15.75</td>\n",
              "    </tr>\n",
              "    <tr>\n",
              "      <th>7</th>\n",
              "      <td>251.4</td>\n",
              "      <td>0.0</td>\n",
              "      <td>118.3</td>\n",
              "      <td>188.5</td>\n",
              "      <td>6.4</td>\n",
              "      <td>1028.4</td>\n",
              "      <td>757.7</td>\n",
              "      <td>56</td>\n",
              "      <td>36.64</td>\n",
              "    </tr>\n",
              "    <tr>\n",
              "      <th>8</th>\n",
              "      <td>296.0</td>\n",
              "      <td>0.0</td>\n",
              "      <td>0.0</td>\n",
              "      <td>192.0</td>\n",
              "      <td>0.0</td>\n",
              "      <td>1085.0</td>\n",
              "      <td>765.0</td>\n",
              "      <td>28</td>\n",
              "      <td>21.65</td>\n",
              "    </tr>\n",
              "    <tr>\n",
              "      <th>9</th>\n",
              "      <td>155.0</td>\n",
              "      <td>184.0</td>\n",
              "      <td>143.0</td>\n",
              "      <td>194.0</td>\n",
              "      <td>9.0</td>\n",
              "      <td>880.0</td>\n",
              "      <td>699.0</td>\n",
              "      <td>28</td>\n",
              "      <td>28.99</td>\n",
              "    </tr>\n",
              "  </tbody>\n",
              "</table>\n",
              "</div>\n",
              "      <button class=\"colab-df-convert\" onclick=\"convertToInteractive('df-900585d5-f172-442a-a248-2c1a2e9ea1ef')\"\n",
              "              title=\"Convert this dataframe to an interactive table.\"\n",
              "              style=\"display:none;\">\n",
              "        \n",
              "  <svg xmlns=\"http://www.w3.org/2000/svg\" height=\"24px\"viewBox=\"0 0 24 24\"\n",
              "       width=\"24px\">\n",
              "    <path d=\"M0 0h24v24H0V0z\" fill=\"none\"/>\n",
              "    <path d=\"M18.56 5.44l.94 2.06.94-2.06 2.06-.94-2.06-.94-.94-2.06-.94 2.06-2.06.94zm-11 1L8.5 8.5l.94-2.06 2.06-.94-2.06-.94L8.5 2.5l-.94 2.06-2.06.94zm10 10l.94 2.06.94-2.06 2.06-.94-2.06-.94-.94-2.06-.94 2.06-2.06.94z\"/><path d=\"M17.41 7.96l-1.37-1.37c-.4-.4-.92-.59-1.43-.59-.52 0-1.04.2-1.43.59L10.3 9.45l-7.72 7.72c-.78.78-.78 2.05 0 2.83L4 21.41c.39.39.9.59 1.41.59.51 0 1.02-.2 1.41-.59l7.78-7.78 2.81-2.81c.8-.78.8-2.07 0-2.86zM5.41 20L4 18.59l7.72-7.72 1.47 1.35L5.41 20z\"/>\n",
              "  </svg>\n",
              "      </button>\n",
              "      \n",
              "  <style>\n",
              "    .colab-df-container {\n",
              "      display:flex;\n",
              "      flex-wrap:wrap;\n",
              "      gap: 12px;\n",
              "    }\n",
              "\n",
              "    .colab-df-convert {\n",
              "      background-color: #E8F0FE;\n",
              "      border: none;\n",
              "      border-radius: 50%;\n",
              "      cursor: pointer;\n",
              "      display: none;\n",
              "      fill: #1967D2;\n",
              "      height: 32px;\n",
              "      padding: 0 0 0 0;\n",
              "      width: 32px;\n",
              "    }\n",
              "\n",
              "    .colab-df-convert:hover {\n",
              "      background-color: #E2EBFA;\n",
              "      box-shadow: 0px 1px 2px rgba(60, 64, 67, 0.3), 0px 1px 3px 1px rgba(60, 64, 67, 0.15);\n",
              "      fill: #174EA6;\n",
              "    }\n",
              "\n",
              "    [theme=dark] .colab-df-convert {\n",
              "      background-color: #3B4455;\n",
              "      fill: #D2E3FC;\n",
              "    }\n",
              "\n",
              "    [theme=dark] .colab-df-convert:hover {\n",
              "      background-color: #434B5C;\n",
              "      box-shadow: 0px 1px 3px 1px rgba(0, 0, 0, 0.15);\n",
              "      filter: drop-shadow(0px 1px 2px rgba(0, 0, 0, 0.3));\n",
              "      fill: #FFFFFF;\n",
              "    }\n",
              "  </style>\n",
              "\n",
              "      <script>\n",
              "        const buttonEl =\n",
              "          document.querySelector('#df-900585d5-f172-442a-a248-2c1a2e9ea1ef button.colab-df-convert');\n",
              "        buttonEl.style.display =\n",
              "          google.colab.kernel.accessAllowed ? 'block' : 'none';\n",
              "\n",
              "        async function convertToInteractive(key) {\n",
              "          const element = document.querySelector('#df-900585d5-f172-442a-a248-2c1a2e9ea1ef');\n",
              "          const dataTable =\n",
              "            await google.colab.kernel.invokeFunction('convertToInteractive',\n",
              "                                                     [key], {});\n",
              "          if (!dataTable) return;\n",
              "\n",
              "          const docLinkHtml = 'Like what you see? Visit the ' +\n",
              "            '<a target=\"_blank\" href=https://colab.research.google.com/notebooks/data_table.ipynb>data table notebook</a>'\n",
              "            + ' to learn more about interactive tables.';\n",
              "          element.innerHTML = '';\n",
              "          dataTable['output_type'] = 'display_data';\n",
              "          await google.colab.output.renderOutput(dataTable, element);\n",
              "          const docLink = document.createElement('div');\n",
              "          docLink.innerHTML = docLinkHtml;\n",
              "          element.appendChild(docLink);\n",
              "        }\n",
              "      </script>\n",
              "    </div>\n",
              "  </div>\n",
              "  "
            ]
          },
          "metadata": {},
          "execution_count": 5
        }
      ]
    },
    {
      "cell_type": "code",
      "source": [
        "duplicados = concreto.duplicated()\n",
        "duplicados.sum()"
      ],
      "metadata": {
        "colab": {
          "base_uri": "https://localhost:8080/"
        },
        "id": "wcksx0Ykv-7l",
        "outputId": "f7f1a365-9f32-4dd7-94fc-f683d124fe3e"
      },
      "execution_count": null,
      "outputs": [
        {
          "output_type": "execute_result",
          "data": {
            "text/plain": [
              "25"
            ]
          },
          "metadata": {},
          "execution_count": 7
        }
      ]
    },
    {
      "cell_type": "code",
      "source": [
        "concreto.describe().T"
      ],
      "metadata": {
        "id": "dCKaoIwszIr4",
        "colab": {
          "base_uri": "https://localhost:8080/",
          "height": 332
        },
        "outputId": "b8f4e88b-a97b-4e5b-b753-06ade3437da5"
      },
      "execution_count": null,
      "outputs": [
        {
          "output_type": "execute_result",
          "data": {
            "text/plain": [
              "                     count        mean         std     min      25%      50%  \\\n",
              "cimento             1030.0  281.167864  104.506364  102.00  192.375  272.900   \n",
              "escória             1030.0   73.895825   86.279342    0.00    0.000   22.000   \n",
              "cinzas              1030.0   54.188350   63.997004    0.00    0.000    0.000   \n",
              "água                1030.0  181.567282   21.354219  121.80  164.900  185.000   \n",
              "superplastificante  1030.0    6.204660    5.973841    0.00    0.000    6.400   \n",
              "agreg.graúdo        1030.0  972.918932   77.753954  801.00  932.000  968.000   \n",
              "agrer.miúdo         1030.0  773.580485   80.175980  594.00  730.950  779.500   \n",
              "idade               1030.0   45.662136   63.169912    1.00    7.000   28.000   \n",
              "resistência         1030.0   35.817961   16.705742    2.33   23.710   34.445   \n",
              "\n",
              "                         75%     max  \n",
              "cimento              350.000   540.0  \n",
              "escória              142.950   359.4  \n",
              "cinzas               118.300   200.1  \n",
              "água                 192.000   247.0  \n",
              "superplastificante    10.200    32.2  \n",
              "agreg.graúdo        1029.400  1145.0  \n",
              "agrer.miúdo          824.000   992.6  \n",
              "idade                 56.000   365.0  \n",
              "resistência           46.135    82.6  "
            ],
            "text/html": [
              "\n",
              "  <div id=\"df-3a4434c4-330d-4b9c-a0dc-0030fd2060cd\">\n",
              "    <div class=\"colab-df-container\">\n",
              "      <div>\n",
              "<style scoped>\n",
              "    .dataframe tbody tr th:only-of-type {\n",
              "        vertical-align: middle;\n",
              "    }\n",
              "\n",
              "    .dataframe tbody tr th {\n",
              "        vertical-align: top;\n",
              "    }\n",
              "\n",
              "    .dataframe thead th {\n",
              "        text-align: right;\n",
              "    }\n",
              "</style>\n",
              "<table border=\"1\" class=\"dataframe\">\n",
              "  <thead>\n",
              "    <tr style=\"text-align: right;\">\n",
              "      <th></th>\n",
              "      <th>count</th>\n",
              "      <th>mean</th>\n",
              "      <th>std</th>\n",
              "      <th>min</th>\n",
              "      <th>25%</th>\n",
              "      <th>50%</th>\n",
              "      <th>75%</th>\n",
              "      <th>max</th>\n",
              "    </tr>\n",
              "  </thead>\n",
              "  <tbody>\n",
              "    <tr>\n",
              "      <th>cimento</th>\n",
              "      <td>1030.0</td>\n",
              "      <td>281.167864</td>\n",
              "      <td>104.506364</td>\n",
              "      <td>102.00</td>\n",
              "      <td>192.375</td>\n",
              "      <td>272.900</td>\n",
              "      <td>350.000</td>\n",
              "      <td>540.0</td>\n",
              "    </tr>\n",
              "    <tr>\n",
              "      <th>escória</th>\n",
              "      <td>1030.0</td>\n",
              "      <td>73.895825</td>\n",
              "      <td>86.279342</td>\n",
              "      <td>0.00</td>\n",
              "      <td>0.000</td>\n",
              "      <td>22.000</td>\n",
              "      <td>142.950</td>\n",
              "      <td>359.4</td>\n",
              "    </tr>\n",
              "    <tr>\n",
              "      <th>cinzas</th>\n",
              "      <td>1030.0</td>\n",
              "      <td>54.188350</td>\n",
              "      <td>63.997004</td>\n",
              "      <td>0.00</td>\n",
              "      <td>0.000</td>\n",
              "      <td>0.000</td>\n",
              "      <td>118.300</td>\n",
              "      <td>200.1</td>\n",
              "    </tr>\n",
              "    <tr>\n",
              "      <th>água</th>\n",
              "      <td>1030.0</td>\n",
              "      <td>181.567282</td>\n",
              "      <td>21.354219</td>\n",
              "      <td>121.80</td>\n",
              "      <td>164.900</td>\n",
              "      <td>185.000</td>\n",
              "      <td>192.000</td>\n",
              "      <td>247.0</td>\n",
              "    </tr>\n",
              "    <tr>\n",
              "      <th>superplastificante</th>\n",
              "      <td>1030.0</td>\n",
              "      <td>6.204660</td>\n",
              "      <td>5.973841</td>\n",
              "      <td>0.00</td>\n",
              "      <td>0.000</td>\n",
              "      <td>6.400</td>\n",
              "      <td>10.200</td>\n",
              "      <td>32.2</td>\n",
              "    </tr>\n",
              "    <tr>\n",
              "      <th>agreg.graúdo</th>\n",
              "      <td>1030.0</td>\n",
              "      <td>972.918932</td>\n",
              "      <td>77.753954</td>\n",
              "      <td>801.00</td>\n",
              "      <td>932.000</td>\n",
              "      <td>968.000</td>\n",
              "      <td>1029.400</td>\n",
              "      <td>1145.0</td>\n",
              "    </tr>\n",
              "    <tr>\n",
              "      <th>agrer.miúdo</th>\n",
              "      <td>1030.0</td>\n",
              "      <td>773.580485</td>\n",
              "      <td>80.175980</td>\n",
              "      <td>594.00</td>\n",
              "      <td>730.950</td>\n",
              "      <td>779.500</td>\n",
              "      <td>824.000</td>\n",
              "      <td>992.6</td>\n",
              "    </tr>\n",
              "    <tr>\n",
              "      <th>idade</th>\n",
              "      <td>1030.0</td>\n",
              "      <td>45.662136</td>\n",
              "      <td>63.169912</td>\n",
              "      <td>1.00</td>\n",
              "      <td>7.000</td>\n",
              "      <td>28.000</td>\n",
              "      <td>56.000</td>\n",
              "      <td>365.0</td>\n",
              "    </tr>\n",
              "    <tr>\n",
              "      <th>resistência</th>\n",
              "      <td>1030.0</td>\n",
              "      <td>35.817961</td>\n",
              "      <td>16.705742</td>\n",
              "      <td>2.33</td>\n",
              "      <td>23.710</td>\n",
              "      <td>34.445</td>\n",
              "      <td>46.135</td>\n",
              "      <td>82.6</td>\n",
              "    </tr>\n",
              "  </tbody>\n",
              "</table>\n",
              "</div>\n",
              "      <button class=\"colab-df-convert\" onclick=\"convertToInteractive('df-3a4434c4-330d-4b9c-a0dc-0030fd2060cd')\"\n",
              "              title=\"Convert this dataframe to an interactive table.\"\n",
              "              style=\"display:none;\">\n",
              "        \n",
              "  <svg xmlns=\"http://www.w3.org/2000/svg\" height=\"24px\"viewBox=\"0 0 24 24\"\n",
              "       width=\"24px\">\n",
              "    <path d=\"M0 0h24v24H0V0z\" fill=\"none\"/>\n",
              "    <path d=\"M18.56 5.44l.94 2.06.94-2.06 2.06-.94-2.06-.94-.94-2.06-.94 2.06-2.06.94zm-11 1L8.5 8.5l.94-2.06 2.06-.94-2.06-.94L8.5 2.5l-.94 2.06-2.06.94zm10 10l.94 2.06.94-2.06 2.06-.94-2.06-.94-.94-2.06-.94 2.06-2.06.94z\"/><path d=\"M17.41 7.96l-1.37-1.37c-.4-.4-.92-.59-1.43-.59-.52 0-1.04.2-1.43.59L10.3 9.45l-7.72 7.72c-.78.78-.78 2.05 0 2.83L4 21.41c.39.39.9.59 1.41.59.51 0 1.02-.2 1.41-.59l7.78-7.78 2.81-2.81c.8-.78.8-2.07 0-2.86zM5.41 20L4 18.59l7.72-7.72 1.47 1.35L5.41 20z\"/>\n",
              "  </svg>\n",
              "      </button>\n",
              "      \n",
              "  <style>\n",
              "    .colab-df-container {\n",
              "      display:flex;\n",
              "      flex-wrap:wrap;\n",
              "      gap: 12px;\n",
              "    }\n",
              "\n",
              "    .colab-df-convert {\n",
              "      background-color: #E8F0FE;\n",
              "      border: none;\n",
              "      border-radius: 50%;\n",
              "      cursor: pointer;\n",
              "      display: none;\n",
              "      fill: #1967D2;\n",
              "      height: 32px;\n",
              "      padding: 0 0 0 0;\n",
              "      width: 32px;\n",
              "    }\n",
              "\n",
              "    .colab-df-convert:hover {\n",
              "      background-color: #E2EBFA;\n",
              "      box-shadow: 0px 1px 2px rgba(60, 64, 67, 0.3), 0px 1px 3px 1px rgba(60, 64, 67, 0.15);\n",
              "      fill: #174EA6;\n",
              "    }\n",
              "\n",
              "    [theme=dark] .colab-df-convert {\n",
              "      background-color: #3B4455;\n",
              "      fill: #D2E3FC;\n",
              "    }\n",
              "\n",
              "    [theme=dark] .colab-df-convert:hover {\n",
              "      background-color: #434B5C;\n",
              "      box-shadow: 0px 1px 3px 1px rgba(0, 0, 0, 0.15);\n",
              "      filter: drop-shadow(0px 1px 2px rgba(0, 0, 0, 0.3));\n",
              "      fill: #FFFFFF;\n",
              "    }\n",
              "  </style>\n",
              "\n",
              "      <script>\n",
              "        const buttonEl =\n",
              "          document.querySelector('#df-3a4434c4-330d-4b9c-a0dc-0030fd2060cd button.colab-df-convert');\n",
              "        buttonEl.style.display =\n",
              "          google.colab.kernel.accessAllowed ? 'block' : 'none';\n",
              "\n",
              "        async function convertToInteractive(key) {\n",
              "          const element = document.querySelector('#df-3a4434c4-330d-4b9c-a0dc-0030fd2060cd');\n",
              "          const dataTable =\n",
              "            await google.colab.kernel.invokeFunction('convertToInteractive',\n",
              "                                                     [key], {});\n",
              "          if (!dataTable) return;\n",
              "\n",
              "          const docLinkHtml = 'Like what you see? Visit the ' +\n",
              "            '<a target=\"_blank\" href=https://colab.research.google.com/notebooks/data_table.ipynb>data table notebook</a>'\n",
              "            + ' to learn more about interactive tables.';\n",
              "          element.innerHTML = '';\n",
              "          dataTable['output_type'] = 'display_data';\n",
              "          await google.colab.output.renderOutput(dataTable, element);\n",
              "          const docLink = document.createElement('div');\n",
              "          docLink.innerHTML = docLinkHtml;\n",
              "          element.appendChild(docLink);\n",
              "        }\n",
              "      </script>\n",
              "    </div>\n",
              "  </div>\n",
              "  "
            ]
          },
          "metadata": {},
          "execution_count": 8
        }
      ]
    },
    {
      "cell_type": "code",
      "source": [
        "concreto.boxplot(column = ['cimento', 'escória', 'cinzas', 'água', 'superplastificante', 'agreg.graúdo', 'agrer.miúdo', 'idade', 'resistência'], rot=45, figsize = (20,10))\n",
        "plt.title('Outliers')\n"
      ],
      "metadata": {
        "colab": {
          "base_uri": "https://localhost:8080/",
          "height": 685
        },
        "id": "_l7F6El3NNwR",
        "outputId": "cdc0f131-7972-46ac-b055-0f35a0829892"
      },
      "execution_count": null,
      "outputs": [
        {
          "output_type": "execute_result",
          "data": {
            "text/plain": [
              "Text(0.5, 1.0, 'Outliers')"
            ]
          },
          "metadata": {},
          "execution_count": 7
        },
        {
          "output_type": "display_data",
          "data": {
            "text/plain": [
              "<Figure size 1440x720 with 1 Axes>"
            ],
            "image/png": "[encoded data removed]"
          },
          "metadata": {
            "needs_background": "light"
          }
        }
      ]
    },
    {
      "cell_type": "code",
      "source": [],
      "metadata": {
        "id": "OAJRJrzqcfTF"
      },
      "execution_count": null,
      "outputs": []
    },
    {
      "cell_type": "code",
      "source": [
        "concreto.drop_duplicates()\n",
        "concrete_df_outliers = pd.DataFrame(concreto.loc[:,])\n",
        "\n",
        "Q1 = concrete_df_outliers.quantile(0.25)\n",
        "Q3 = concrete_df_outliers.quantile(0.75)\n",
        "IQR = Q3 - Q1\n",
        "\n",
        "print(IQR)\n",
        "for i, j in zip(np.where(concrete_df_outliers > Q3 + 1.5 * IQR)[0], np.where(concrete_df_outliers > Q3 + 1.5 * IQR)[1]):\n",
        "    \n",
        "    whisker  = Q3 + 1.5 * IQR\n",
        "    concrete_df_outliers.iloc[i,j] = whisker[j]\n",
        "    \n",
        "for i, j in zip(np.where(concrete_df_outliers < Q1 - 1.5 * IQR)[0], np.where(concrete_df_outliers < Q1 - 1.5 * IQR)[1]): \n",
        "    \n",
        "    whisker  = Q1 - 1.5 * IQR\n",
        "    concrete_df_outliers.iloc[i,j] = whisker[j]\n",
        "print(i)\n",
        "print(j)"
      ],
      "metadata": {
        "id": "RltqXQJmzg1c",
        "colab": {
          "base_uri": "https://localhost:8080/"
        },
        "outputId": "514ddf57-6151-427b-8045-33d7dac54246"
      },
      "execution_count": null,
      "outputs": [
        {
          "output_type": "stream",
          "name": "stdout",
          "text": [
            "cimento               157.625\n",
            "escória               142.950\n",
            "cinzas                118.300\n",
            "água                   27.100\n",
            "superplastificante     10.200\n",
            "agreg.graúdo           97.400\n",
            "agrer.miúdo            93.050\n",
            "idade                  49.000\n",
            "resistência            22.425\n",
            "dtype: float64\n",
            "914\n",
            "3\n"
          ]
        }
      ]
    },
    {
      "cell_type": "code",
      "source": [
        "concreto.boxplot(column = ['cimento', 'escória', 'cinzas', 'água', 'superplastificante', 'agreg.graúdo', 'agrer.miúdo', 'idade', 'resistência'], rot=45, figsize = (20,10))\n",
        "plt.title('Outliers')"
      ],
      "metadata": {
        "id": "-eGEBah6o5nV",
        "outputId": "77edb0f0-1a9a-41bf-fde6-6d290aabe45d",
        "colab": {
          "base_uri": "https://localhost:8080/",
          "height": 685
        }
      },
      "execution_count": null,
      "outputs": [
        {
          "output_type": "execute_result",
          "data": {
            "text/plain": [
              "Text(0.5, 1.0, 'Outliers')"
            ]
          },
          "metadata": {},
          "execution_count": 9
        },
        {
          "output_type": "display_data",
          "data": {
            "text/plain": [
              "<Figure size 1440x720 with 1 Axes>"
            ],
            "image/png": "[encoded data removed]"
          },
          "metadata": {
            "needs_background": "light"
          }
        }
      ]
    },
    {
      "cell_type": "code",
      "source": [
        "X = concreto.drop('resistência', axis=1)\n",
        "y = concreto['resistência']\n",
        "X_train, X_test, y_train, y_test = train_test_split(X, y, test_size=0.3, random_state=0)\n",
        "modelo = RandomForestRegressor(n_estimators=20000, random_state=0, n_jobs=-1)\n",
        "modelo.fit(X_train, y_train)"
      ],
      "metadata": {
        "colab": {
          "base_uri": "https://localhost:8080/"
        },
        "id": "zdWXclNszg4F",
        "outputId": "ab5b3440-6ef6-426a-98e1-90fdc0fda6cf"
      },
      "execution_count": null,
      "outputs": [
        {
          "output_type": "execute_result",
          "data": {
            "text/plain": [
              "RandomForestRegressor(n_estimators=15000, n_jobs=-1, random_state=0)"
            ]
          },
          "metadata": {},
          "execution_count": 10
        }
      ]
    },
    {
      "cell_type": "code",
      "source": [
        "previsao = modelo.predict(X_test)\n",
        "previsao"
      ],
      "metadata": {
        "id": "LqNov1AWzg6-"
      },
      "execution_count": null,
      "outputs": []
    },
    {
      "cell_type": "code",
      "source": [
        "np.sqrt(mean_squared_error(y_test, previsao))"
      ],
      "metadata": {
        "id": "laRpCAoK3O1O",
        "colab": {
          "base_uri": "https://localhost:8080/"
        },
        "outputId": "b86a2c0a-6281-4ac0-81df-771f2a7d88a8"
      },
      "execution_count": null,
      "outputs": [
        {
          "output_type": "execute_result",
          "data": {
            "text/plain": [
              "5.131250787936642"
            ]
          },
          "metadata": {},
          "execution_count": 12
        }
      ]
    },
    {
      "cell_type": "code",
      "source": [
        "r2_score(y_test, previsao)"
      ],
      "metadata": {
        "colab": {
          "base_uri": "https://localhost:8080/"
        },
        "id": "U8-sKSfNQH6Z",
        "outputId": "e791e9c4-b4b1-492c-9217-8e5e55575121"
      },
      "execution_count": null,
      "outputs": [
        {
          "output_type": "execute_result",
          "data": {
            "text/plain": [
              "0.9022935552800339"
            ]
          },
          "metadata": {},
          "execution_count": 13
        }
      ]
    },
    {
      "cell_type": "code",
      "source": [],
      "metadata": {
        "id": "4NIi6GyHEmXV"
      },
      "execution_count": null,
      "outputs": []
    },
    {
      "cell_type": "code",
      "source": [
        "features_importance = zip(modelo.feature_importances_, X)\n",
        "for importance, feature in sorted(features_importance, reverse=True):\n",
        "    print(\"%s:%2.f%%\" % (feature, importance*100))"
      ],
      "metadata": {
        "colab": {
          "base_uri": "https://localhost:8080/"
        },
        "id": "GlAjXo7ZmsqX",
        "outputId": "fba27b16-0abe-48d2-b1cc-6171a8297930"
      },
      "execution_count": null,
      "outputs": [
        {
          "output_type": "stream",
          "name": "stdout",
          "text": [
            "idade:35%\n",
            "cimento:29%\n",
            "água:11%\n",
            "superplastificante: 9%\n",
            "escória: 7%\n",
            "agrer.miúdo: 4%\n",
            "agreg.graúdo: 3%\n",
            "cinzas: 2%\n"
          ]
        }
      ]
    },
    {
      "cell_type": "code",
      "source": [
        "corr = abs(concreto.corr())\n",
        "lower_triangle = np.tril(corr, k = -1) \n",
        "mask = lower_triangle == 0  \n",
        "\n",
        "plt.figure(figsize = (12,10))\n",
        "sns.heatmap(lower_triangle, center = 0.5, cmap = 'BuGn', annot= True, xticklabels = corr.index, yticklabels = corr.columns,\n",
        "            cbar= True, linewidths= 1, mask = mask)  \n",
        "plt.show()"
      ],
      "metadata": {
        "colab": {
          "base_uri": "https://localhost:8080/",
          "height": 671
        },
        "id": "lG584ADnaF6H",
        "outputId": "92d8cdbe-3128-4cdb-a1f2-c20346ae081f"
      },
      "execution_count": null,
      "outputs": [
        {
          "output_type": "display_data",
          "data": {
            "text/plain": [
              "<Figure size 864x720 with 2 Axes>"
            ],
            "image/png": "[encoded data removed]"
          },
          "metadata": {
            "needs_background": "light"
          }
        }
      ]
    },
    {
      "cell_type": "code",
      "source": [],
      "metadata": {
        "id": "ORjhRjWhPlvj"
      },
      "execution_count": null,
      "outputs": []
    }
  ]
}